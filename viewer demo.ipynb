{
 "metadata": {
  "name": "",
  "signature": "sha256:5dd8fbc54b9867187ccd770a677ff5e7be5aab4f32823c09c253c8afc878d794"
 },
 "nbformat": 3,
 "nbformat_minor": 0,
 "worksheets": [
  {
   "cells": [
    {
     "cell_type": "code",
     "collapsed": false,
     "input": [
      "%load 0_image_viewer.py"
     ],
     "language": "python",
     "metadata": {},
     "outputs": [],
     "prompt_number": 1
    },
    {
     "cell_type": "code",
     "collapsed": false,
     "input": [
      "from skimage import data\n",
      "from skimage.viewer import ImageViewer\n",
      "\n",
      "\n",
      "image = data.camera()\n",
      "viewer = ImageViewer(image)\n",
      "viewer.show();"
     ],
     "language": "python",
     "metadata": {},
     "outputs": [],
     "prompt_number": 12
    },
    {
     "cell_type": "code",
     "collapsed": false,
     "input": [
      "%load 1_collection_viewer.py"
     ],
     "language": "python",
     "metadata": {},
     "outputs": [],
     "prompt_number": 3
    },
    {
     "cell_type": "code",
     "collapsed": false,
     "input": [
      "from skimage import data\n",
      "from skimage.viewer import CollectionViewer\n",
      "from skimage.transform import pyramid_gaussian\n",
      "\n",
      "\n",
      "img = data.lena()\n",
      "img_collection = tuple(pyramid_gaussian(img))\n",
      "\n",
      "view = CollectionViewer(img_collection)\n",
      "view.show();"
     ],
     "language": "python",
     "metadata": {},
     "outputs": [],
     "prompt_number": 13
    },
    {
     "cell_type": "code",
     "collapsed": false,
     "input": [
      "%load 2_canny.py"
     ],
     "language": "python",
     "metadata": {},
     "outputs": [],
     "prompt_number": 5
    },
    {
     "cell_type": "code",
     "collapsed": false,
     "input": [
      "from skimage import data\n",
      "from skimage.feature import canny\n",
      "from skimage.viewer import ImageViewer\n",
      "from skimage.viewer.plugins.overlayplugin import OverlayPlugin\n",
      "from skimage.viewer.widgets import Slider\n",
      "\n",
      "\n",
      "class CannyPlugin(OverlayPlugin):\n",
      "\n",
      "    def __init__(self, *args, **kwargs):\n",
      "        super(CannyPlugin, self).__init__(image_filter=canny, **kwargs)\n",
      "\n",
      "    def attach(self, image_viewer):\n",
      "        # add widgets\n",
      "        self.add_widget(Slider('sigma', 0, 5))\n",
      "        self.add_widget(Slider('low threshold', 0, 255, value_type='int'))\n",
      "        self.add_widget(Slider('high threshold', 0, 255, value_type='int'))\n",
      "\n",
      "        super(CannyPlugin, self).attach(image_viewer)\n",
      "\n",
      "\n",
      "image = data.camera()\n",
      "viewer = ImageViewer(image)\n",
      "viewer += CannyPlugin()\n",
      "viewer.show();"
     ],
     "language": "python",
     "metadata": {},
     "outputs": [],
     "prompt_number": 14
    },
    {
     "cell_type": "code",
     "collapsed": false,
     "input": [
      "%load 3_canny_simple.py"
     ],
     "language": "python",
     "metadata": {},
     "outputs": [],
     "prompt_number": 8
    },
    {
     "cell_type": "code",
     "collapsed": false,
     "input": [
      "from skimage import data\n",
      "from skimage.feature import canny\n",
      "\n",
      "from skimage.viewer import ImageViewer\n",
      "from skimage.viewer.widgets import Slider\n",
      "from skimage.viewer.plugins.overlayplugin import OverlayPlugin\n",
      "\n",
      "\n",
      "plugin = OverlayPlugin(image_filter=canny)\n",
      "plugin += Slider('sigma', 0, 5)\n",
      "plugin += Slider('low threshold', 0, 255, value_type='int')\n",
      "plugin += Slider('high threshold', 0, 255, value_type='int')\n",
      "\n",
      "viewer = ImageViewer(data.camera())\n",
      "viewer += plugin\n",
      "viewer.show();"
     ],
     "language": "python",
     "metadata": {},
     "outputs": [],
     "prompt_number": 15
    },
    {
     "cell_type": "code",
     "collapsed": false,
     "input": [
      "%load 4_lineprofile.py"
     ],
     "language": "python",
     "metadata": {},
     "outputs": [],
     "prompt_number": 10
    },
    {
     "cell_type": "code",
     "collapsed": false,
     "input": [
      "from skimage import data\n",
      "from skimage.viewer import ImageViewer\n",
      "from skimage.viewer.plugins.lineprofile import LineProfile\n",
      "\n",
      "\n",
      "image = data.camera()\n",
      "viewer = ImageViewer(image)\n",
      "viewer += LineProfile()\n",
      "viewer.show();"
     ],
     "language": "python",
     "metadata": {},
     "outputs": [
      {
       "output_type": "stream",
       "stream": "stdout",
       "text": [
        "Line profile tool\n",
        "+ and - keys or mouse scroll changes width of scan line.\n",
        "Select and drag ends of the scan line to adjust it.\n"
       ]
      }
     ],
     "prompt_number": 16
    },
    {
     "cell_type": "code",
     "collapsed": false,
     "input": [
      "%load 5_color_histogram.py"
     ],
     "language": "python",
     "metadata": {},
     "outputs": [],
     "prompt_number": 17
    },
    {
     "cell_type": "code",
     "collapsed": false,
     "input": [
      "from skimage import io\n",
      "from skimage.viewer import ImageViewer\n",
      "from skimage.viewer.plugins.color_histogram import ColorHistogram\n",
      "\n",
      "\n",
      "image = io.imread('mms_scipy2013.png')\n",
      "viewer = ImageViewer(image)\n",
      "viewer += ColorHistogram(max_pct=0.99)\n",
      "viewer.show();"
     ],
     "language": "python",
     "metadata": {},
     "outputs": [
      {
       "output_type": "stream",
       "stream": "stdout",
       "text": [
        "Color Histogram tool:\n",
        "Select region of a-b colorspace to highlight on image.\n",
        "(xmin=156, xmax=209, ymin=216, ymax=267)"
       ]
      },
      {
       "output_type": "stream",
       "stream": "stdout",
       "text": [
        "\n",
        "(xmin=138, xmax=248, ymin=184, ymax=274)"
       ]
      },
      {
       "output_type": "stream",
       "stream": "stdout",
       "text": [
        "\n"
       ]
      }
     ],
     "prompt_number": 18
    },
    {
     "cell_type": "code",
     "collapsed": false,
     "input": [
      "%load 6_watershed_demo.py"
     ],
     "language": "python",
     "metadata": {},
     "outputs": [],
     "prompt_number": 19
    },
    {
     "cell_type": "code",
     "collapsed": false,
     "input": [
      "import matplotlib.pyplot as plt\n",
      "\n",
      "from skimage import data\n",
      "from skimage import filter\n",
      "from skimage import morphology\n",
      "from skimage.viewer import ImageViewer\n",
      "from skimage.viewer.widgets import history\n",
      "from skimage.viewer.plugins.labelplugin import LabelPainter\n",
      "\n",
      "\n",
      "class OKCancelButtons(history.OKCancelButtons):\n",
      "\n",
      "    def update_original_image(self):\n",
      "        # OKCancelButtons updates the original image with the filtered image\n",
      "        # by default. Override this method to update the overlay.\n",
      "        self.plugin._show_watershed()\n",
      "        self.plugin.close()\n",
      "\n",
      "\n",
      "class WatershedPlugin(LabelPainter):\n",
      "\n",
      "    def help(self):\n",
      "        helpstr = (\"Watershed plugin\",\n",
      "                   \"----------------\",\n",
      "                   \"Use mouse to paint each region with a different label.\",\n",
      "                   \"Press OK to display segmented image.\")\n",
      "        return '\\n'.join(helpstr)\n",
      "\n",
      "    def _show_watershed(self):\n",
      "        viewer = self.image_viewer\n",
      "        edge_image = filter.sobel(viewer.image)\n",
      "        labels = morphology.watershed(edge_image, self.paint_tool.overlay)\n",
      "        viewer.ax.imshow(labels, cmap=plt.cm.jet, alpha=0.5)\n",
      "        viewer.redraw()\n",
      "\n",
      "\n",
      "image = data.coins()\n",
      "plugin = WatershedPlugin()\n",
      "plugin += OKCancelButtons()\n",
      "\n",
      "viewer = ImageViewer(image)\n",
      "viewer += plugin\n",
      "viewer.show();"
     ],
     "language": "python",
     "metadata": {},
     "outputs": [
      {
       "output_type": "stream",
       "stream": "stdout",
       "text": [
        "Watershed plugin\n",
        "----------------\n",
        "Use mouse to paint each region with a different label.\n",
        "Press OK to display segmented image.\n"
       ]
      },
      {
       "ename": "AttributeError",
       "evalue": "'BlitManager' object has no attribute 'artist'",
       "output_type": "pyerr",
       "traceback": [
        "\u001b[0;31m---------------------------------------------------------------------------\u001b[0m\n\u001b[0;31mAttributeError\u001b[0m                            Traceback (most recent call last)",
        "\u001b[0;32m/Users/arve/.virtualenvs/3.4/lib/python3.4/site-packages/scikit_image-0.11dev-py3.4-macosx-10.9-x86_64.egg/skimage/viewer/plugins/base.py\u001b[0m in \u001b[0;36mcloseEvent\u001b[0;34m(self, event)\u001b[0m\n\u001b[1;32m    235\u001b[0m         \u001b[0mNote\u001b[0m \u001b[0mthat\u001b[0m \u001b[0martists\u001b[0m \u001b[0mmust\u001b[0m \u001b[0mbe\u001b[0m \u001b[0mappended\u001b[0m \u001b[0mto\u001b[0m\u001b[0;31m \u001b[0m\u001b[0;31m`\u001b[0m\u001b[0mself\u001b[0m\u001b[0;34m.\u001b[0m\u001b[0martists\u001b[0m\u001b[0;31m`\u001b[0m\u001b[0;34m.\u001b[0m\u001b[0;34m\u001b[0m\u001b[0m\n\u001b[1;32m    236\u001b[0m         \"\"\"\n\u001b[0;32m--> 237\u001b[0;31m         \u001b[0mself\u001b[0m\u001b[0;34m.\u001b[0m\u001b[0mclean_up\u001b[0m\u001b[0;34m(\u001b[0m\u001b[0;34m)\u001b[0m\u001b[0;34m\u001b[0m\u001b[0m\n\u001b[0m\u001b[1;32m    238\u001b[0m         \u001b[0mself\u001b[0m\u001b[0;34m.\u001b[0m\u001b[0mclose\u001b[0m\u001b[0;34m(\u001b[0m\u001b[0;34m)\u001b[0m\u001b[0;34m\u001b[0m\u001b[0m\n\u001b[1;32m    239\u001b[0m \u001b[0;34m\u001b[0m\u001b[0m\n",
        "\u001b[0;32m/Users/arve/.virtualenvs/3.4/lib/python3.4/site-packages/scikit_image-0.11dev-py3.4-macosx-10.9-x86_64.egg/skimage/viewer/plugins/base.py\u001b[0m in \u001b[0;36mclean_up\u001b[0;34m(self)\u001b[0m\n\u001b[1;32m    239\u001b[0m \u001b[0;34m\u001b[0m\u001b[0m\n\u001b[1;32m    240\u001b[0m     \u001b[0;32mdef\u001b[0m \u001b[0mclean_up\u001b[0m\u001b[0;34m(\u001b[0m\u001b[0mself\u001b[0m\u001b[0;34m)\u001b[0m\u001b[0;34m:\u001b[0m\u001b[0;34m\u001b[0m\u001b[0m\n\u001b[0;32m--> 241\u001b[0;31m         \u001b[0mself\u001b[0m\u001b[0;34m.\u001b[0m\u001b[0mremove_image_artists\u001b[0m\u001b[0;34m(\u001b[0m\u001b[0;34m)\u001b[0m\u001b[0;34m\u001b[0m\u001b[0m\n\u001b[0m\u001b[1;32m    242\u001b[0m         \u001b[0;32mif\u001b[0m \u001b[0mself\u001b[0m \u001b[0;32min\u001b[0m \u001b[0mself\u001b[0m\u001b[0;34m.\u001b[0m\u001b[0mimage_viewer\u001b[0m\u001b[0;34m.\u001b[0m\u001b[0mplugins\u001b[0m\u001b[0;34m:\u001b[0m\u001b[0;34m\u001b[0m\u001b[0m\n\u001b[1;32m    243\u001b[0m             \u001b[0mself\u001b[0m\u001b[0;34m.\u001b[0m\u001b[0mimage_viewer\u001b[0m\u001b[0;34m.\u001b[0m\u001b[0mplugins\u001b[0m\u001b[0;34m.\u001b[0m\u001b[0mremove\u001b[0m\u001b[0;34m(\u001b[0m\u001b[0mself\u001b[0m\u001b[0;34m)\u001b[0m\u001b[0;34m\u001b[0m\u001b[0m\n",
        "\u001b[0;32m/Users/arve/.virtualenvs/3.4/lib/python3.4/site-packages/scikit_image-0.11dev-py3.4-macosx-10.9-x86_64.egg/skimage/viewer/plugins/base.py\u001b[0m in \u001b[0;36mremove_image_artists\u001b[0;34m(self)\u001b[0m\n\u001b[1;32m    248\u001b[0m         \u001b[0;34m\"\"\"Remove artists that are connected to the image viewer.\"\"\"\u001b[0m\u001b[0;34m\u001b[0m\u001b[0m\n\u001b[1;32m    249\u001b[0m         \u001b[0;32mfor\u001b[0m \u001b[0ma\u001b[0m \u001b[0;32min\u001b[0m \u001b[0mself\u001b[0m\u001b[0;34m.\u001b[0m\u001b[0martists\u001b[0m\u001b[0;34m:\u001b[0m\u001b[0;34m\u001b[0m\u001b[0m\n\u001b[0;32m--> 250\u001b[0;31m             \u001b[0ma\u001b[0m\u001b[0;34m.\u001b[0m\u001b[0mremove\u001b[0m\u001b[0;34m(\u001b[0m\u001b[0;34m)\u001b[0m\u001b[0;34m\u001b[0m\u001b[0m\n\u001b[0m\u001b[1;32m    251\u001b[0m \u001b[0;34m\u001b[0m\u001b[0m\n\u001b[1;32m    252\u001b[0m     \u001b[0;32mdef\u001b[0m \u001b[0moutput\u001b[0m\u001b[0;34m(\u001b[0m\u001b[0mself\u001b[0m\u001b[0;34m)\u001b[0m\u001b[0;34m:\u001b[0m\u001b[0;34m\u001b[0m\u001b[0m\n",
        "\u001b[0;32m/Users/arve/.virtualenvs/3.4/lib/python3.4/site-packages/scikit_image-0.11dev-py3.4-macosx-10.9-x86_64.egg/skimage/viewer/canvastools/base.py\u001b[0m in \u001b[0;36mremove\u001b[0;34m(self)\u001b[0m\n\u001b[1;32m     77\u001b[0m \u001b[0;34m\u001b[0m\u001b[0m\n\u001b[1;32m     78\u001b[0m     \u001b[0;32mdef\u001b[0m \u001b[0mremove\u001b[0m\u001b[0;34m(\u001b[0m\u001b[0mself\u001b[0m\u001b[0;34m)\u001b[0m\u001b[0;34m:\u001b[0m\u001b[0;34m\u001b[0m\u001b[0m\n\u001b[0;32m---> 79\u001b[0;31m         \u001b[0mself\u001b[0m\u001b[0;34m.\u001b[0m\u001b[0mviewer\u001b[0m\u001b[0;34m.\u001b[0m\u001b[0mremove_tool\u001b[0m\u001b[0;34m(\u001b[0m\u001b[0mself\u001b[0m\u001b[0;34m)\u001b[0m\u001b[0;34m\u001b[0m\u001b[0m\n\u001b[0m\u001b[1;32m     80\u001b[0m \u001b[0;34m\u001b[0m\u001b[0m\n\u001b[1;32m     81\u001b[0m     \u001b[0;34m@\u001b[0m\u001b[0mproperty\u001b[0m\u001b[0;34m\u001b[0m\u001b[0m\n",
        "\u001b[0;32m/Users/arve/.virtualenvs/3.4/lib/python3.4/site-packages/scikit_image-0.11dev-py3.4-macosx-10.9-x86_64.egg/skimage/viewer/viewers/core.py\u001b[0m in \u001b[0;36mremove_tool\u001b[0;34m(self, tool)\u001b[0m\n\u001b[1;32m    402\u001b[0m     \u001b[0;32mdef\u001b[0m \u001b[0mremove_tool\u001b[0m\u001b[0;34m(\u001b[0m\u001b[0mself\u001b[0m\u001b[0;34m,\u001b[0m \u001b[0mtool\u001b[0m\u001b[0;34m)\u001b[0m\u001b[0;34m:\u001b[0m\u001b[0;34m\u001b[0m\u001b[0m\n\u001b[1;32m    403\u001b[0m         \u001b[0;32mif\u001b[0m \u001b[0mself\u001b[0m\u001b[0;34m.\u001b[0m\u001b[0museblit\u001b[0m\u001b[0;34m:\u001b[0m\u001b[0;34m\u001b[0m\u001b[0m\n\u001b[0;32m--> 404\u001b[0;31m             \u001b[0mself\u001b[0m\u001b[0;34m.\u001b[0m\u001b[0m_blit_manager\u001b[0m\u001b[0;34m.\u001b[0m\u001b[0mremove_artists\u001b[0m\u001b[0;34m(\u001b[0m\u001b[0mtool\u001b[0m\u001b[0;34m.\u001b[0m\u001b[0martists\u001b[0m\u001b[0;34m)\u001b[0m\u001b[0;34m\u001b[0m\u001b[0m\n\u001b[0m\u001b[1;32m    405\u001b[0m         \u001b[0mself\u001b[0m\u001b[0;34m.\u001b[0m\u001b[0m_tools\u001b[0m\u001b[0;34m.\u001b[0m\u001b[0mremove\u001b[0m\u001b[0;34m(\u001b[0m\u001b[0mtool\u001b[0m\u001b[0;34m)\u001b[0m\u001b[0;34m\u001b[0m\u001b[0m\n\u001b[1;32m    406\u001b[0m         \u001b[0mself\u001b[0m\u001b[0;34m.\u001b[0m\u001b[0m_event_manager\u001b[0m\u001b[0;34m.\u001b[0m\u001b[0mdetach\u001b[0m\u001b[0;34m(\u001b[0m\u001b[0mtool\u001b[0m\u001b[0;34m)\u001b[0m\u001b[0;34m\u001b[0m\u001b[0m\n",
        "\u001b[0;32m/Users/arve/.virtualenvs/3.4/lib/python3.4/site-packages/scikit_image-0.11dev-py3.4-macosx-10.9-x86_64.egg/skimage/viewer/viewers/core.py\u001b[0m in \u001b[0;36mremove_artists\u001b[0;34m(self, artists)\u001b[0m\n\u001b[1;32m     67\u001b[0m     \u001b[0;32mdef\u001b[0m \u001b[0mremove_artists\u001b[0m\u001b[0;34m(\u001b[0m\u001b[0mself\u001b[0m\u001b[0;34m,\u001b[0m \u001b[0martists\u001b[0m\u001b[0;34m)\u001b[0m\u001b[0;34m:\u001b[0m\u001b[0;34m\u001b[0m\u001b[0m\n\u001b[1;32m     68\u001b[0m         \u001b[0;32mfor\u001b[0m \u001b[0martist\u001b[0m \u001b[0;32min\u001b[0m \u001b[0martists\u001b[0m\u001b[0;34m:\u001b[0m\u001b[0;34m\u001b[0m\u001b[0m\n\u001b[0;32m---> 69\u001b[0;31m             \u001b[0mself\u001b[0m\u001b[0;34m.\u001b[0m\u001b[0martist\u001b[0m\u001b[0;34m.\u001b[0m\u001b[0mremove\u001b[0m\u001b[0;34m(\u001b[0m\u001b[0martist\u001b[0m\u001b[0;34m)\u001b[0m\u001b[0;34m\u001b[0m\u001b[0m\n\u001b[0m\u001b[1;32m     70\u001b[0m \u001b[0;34m\u001b[0m\u001b[0m\n\u001b[1;32m     71\u001b[0m     \u001b[0;32mdef\u001b[0m \u001b[0mon_draw_event\u001b[0m\u001b[0;34m(\u001b[0m\u001b[0mself\u001b[0m\u001b[0;34m,\u001b[0m \u001b[0mevent\u001b[0m\u001b[0;34m=\u001b[0m\u001b[0;32mNone\u001b[0m\u001b[0;34m)\u001b[0m\u001b[0;34m:\u001b[0m\u001b[0;34m\u001b[0m\u001b[0m\n",
        "\u001b[0;31mAttributeError\u001b[0m: 'BlitManager' object has no attribute 'artist'"
       ]
      }
     ],
     "prompt_number": 21
    },
    {
     "cell_type": "code",
     "collapsed": false,
     "input": [
      "%load 7_probabilistic_hough.py"
     ],
     "language": "python",
     "metadata": {},
     "outputs": [],
     "prompt_number": 23
    },
    {
     "cell_type": "code",
     "collapsed": false,
     "input": [
      "import numpy as np\n",
      "\n",
      "from skimage import data\n",
      "from skimage import draw\n",
      "from skimage.transform import probabilistic_hough_line\n",
      "\n",
      "from skimage.viewer import ImageViewer\n",
      "from skimage.viewer.widgets import Slider\n",
      "from skimage.viewer.plugins.overlayplugin import OverlayPlugin\n",
      "from skimage.viewer.plugins.canny import CannyPlugin\n",
      "\n",
      "\n",
      "def line_image(shape, lines):\n",
      "    image = np.zeros(shape, dtype=bool)\n",
      "    for end_points in lines:\n",
      "        end_points = np.asarray(end_points)[:, ::-1]\n",
      "        image[draw.line(*np.ravel(end_points))] = 1\n",
      "    return image\n",
      "\n",
      "\n",
      "def hough_lines(image, *args, **kwargs):\n",
      "    lines = probabilistic_hough_line(image, threshold=0.5, *args, **kwargs)\n",
      "    image = line_image(image.shape, lines)\n",
      "    return image\n",
      "\n",
      "\n",
      "image = data.camera()\n",
      "canny_viewer = ImageViewer(image)\n",
      "canny_plugin = CannyPlugin()\n",
      "canny_viewer += canny_plugin\n",
      "\n",
      "hough_plugin = OverlayPlugin(image_filter=hough_lines)\n",
      "hough_plugin += Slider('line length', 0, 100, value=100, update_on='move')\n",
      "hough_plugin += Slider('line gap', 0, 20, value=0, update_on='move')\n",
      "\n",
      "hough_viewer = ImageViewer(canny_plugin)\n",
      "hough_viewer += hough_plugin\n",
      "\n",
      "canny_viewer.show();"
     ],
     "language": "python",
     "metadata": {},
     "outputs": [],
     "prompt_number": 24
    }
   ],
   "metadata": {}
  }
 ]
}